{
 "cells": [
  {
   "cell_type": "code",
   "execution_count": 1,
   "metadata": {},
   "outputs": [
    {
     "name": "stdout",
     "output_type": "stream",
     "text": [
      "[1, 3, 4]\n"
     ]
    }
   ],
   "source": [
    "from collections import defaultdict\n",
    "\n",
    "def findOriginalArray(changed):\n",
    "    count_dict = defaultdict(int)\n",
    "    \n",
    "    for num in changed:\n",
    "        count_dict[num] += 1\n",
    "    \n",
    "    original = []\n",
    "    \n",
    "    for num in changed:\n",
    "        if count_dict[num] == 0:\n",
    "            continue\n",
    "        \n",
    "        if count_dict[2 * num] == 0:\n",
    "            return []\n",
    "        \n",
    "        count_dict[2 * num] -= 1\n",
    "        original.append(num)\n",
    "    \n",
    "    return original\n",
    "changed = [1, 3, 4, 2, 6, 8]\n",
    "print(findOriginalArray(changed))"
   ]
  }
 ],
 "metadata": {
  "kernelspec": {
   "display_name": "Python 3",
   "language": "python",
   "name": "python3"
  },
  "language_info": {
   "codemirror_mode": {
    "name": "ipython",
    "version": 3
   },
   "file_extension": ".py",
   "mimetype": "text/x-python",
   "name": "python",
   "nbconvert_exporter": "python",
   "pygments_lexer": "ipython3",
   "version": "3.11.1"
  },
  "orig_nbformat": 4
 },
 "nbformat": 4,
 "nbformat_minor": 2
}
